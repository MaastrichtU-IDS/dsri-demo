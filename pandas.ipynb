{
 "cells": [
  {
   "attachments": {},
   "cell_type": "markdown",
   "id": "moving-short",
   "metadata": {},
   "source": [
    "## Quick example with pandas 🐼\n",
    "\n",
    "Demo to quickly load 400k+ drug-disease associations in pandas and make a minor change.\n",
    "\n",
    "Install the required dependencies in the container before running this notebook, if not already done:\n",
    "\n",
    "```bash\n",
    "pip install pandas\n",
    "```"
   ]
  },
  {
   "cell_type": "code",
   "execution_count": 2,
   "id": "mediterranean-stretch",
   "metadata": {},
   "outputs": [],
   "source": [
    "import pandas as pd "
   ]
  },
  {
   "attachments": {},
   "cell_type": "markdown",
   "metadata": {},
   "source": [
    "## Download\n",
    "\n",
    "From http://snap.stanford.edu/biodata/datasets/10004/10004-DCh-Miner.html using Pandas"
   ]
  },
  {
   "cell_type": "code",
   "execution_count": null,
   "metadata": {},
   "outputs": [
    {
     "name": "stdout",
     "output_type": "stream",
     "text": [
      "       # Disease(MESH)          Chemical\n",
      "0         MESH:D005923  DRUGBANK:DB00564\n",
      "1         MESH:D009503  DRUGBANK:DB01072\n",
      "2         MESH:D016115  DRUGBANK:DB01759\n",
      "3         MESH:D018476  DRUGBANK:DB00451\n",
      "4         MESH:C567059  DRUGBANK:DB00641\n",
      "...                ...               ...\n",
      "466652    MESH:C565545  DRUGBANK:DB00482\n",
      "466653    MESH:D009164  DRUGBANK:DB00977\n",
      "466654    MESH:D010518  DRUGBANK:DB04216\n",
      "466655    MESH:D002653  DRUGBANK:DB02701\n",
      "466656    MESH:D013119  DRUGBANK:DB04465\n",
      "\n",
      "[466657 rows x 2 columns]\n"
     ]
    }
   ],
   "source": [
    "data = pd.read_csv(\n",
    "    'https://snap.stanford.edu/biodata/datasets/10004/files/DCh-Miner_miner-disease-chemical.tsv.gz', \n",
    "    sep='\\t', header=0\n",
    ")"
   ]
  },
  {
   "attachments": {},
   "cell_type": "markdown",
   "id": "c0c02df1",
   "metadata": {},
   "source": [
    "## Transform\n",
    "\n",
    "Add `DRUGBANK:` at the start of the Chemical ID to have valid CURIEs (namespace + identifier)"
   ]
  },
  {
   "cell_type": "code",
   "execution_count": null,
   "id": "86a547b7",
   "metadata": {},
   "outputs": [],
   "source": [
    "data[\"Chemical\"] = data[\"Chemical\"].apply (lambda row: 'DRUGBANK:' + row)"
   ]
  },
  {
   "attachments": {},
   "cell_type": "markdown",
   "id": "f848fa19",
   "metadata": {},
   "source": [
    "## Store"
   ]
  },
  {
   "cell_type": "code",
   "execution_count": null,
   "id": "d5ce2aa4",
   "metadata": {},
   "outputs": [],
   "source": [
    "print(data)\n",
    "data.to_csv('mined-disease-chemical-associations.csv', index=False, header=False)"
   ]
  }
 ],
 "metadata": {
  "kernelspec": {
   "display_name": "Python 3",
   "language": "python",
   "name": "python3"
  },
  "language_info": {
   "codemirror_mode": {
    "name": "ipython",
    "version": 3
   },
   "file_extension": ".py",
   "mimetype": "text/x-python",
   "name": "python",
   "nbconvert_exporter": "python",
   "pygments_lexer": "ipython3",
   "version": "3.10.11"
  }
 },
 "nbformat": 4,
 "nbformat_minor": 5
}
